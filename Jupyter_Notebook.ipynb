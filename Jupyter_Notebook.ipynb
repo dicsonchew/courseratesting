{
 "cells": [
  {
   "cell_type": "markdown",
   "metadata": {},
   "source": [
    "<center>\n",
    "    <img src=\"https://cf-courses-data.s3.us.cloud-object-storage.appdomain.cloud/IBMDeveloperSkillsNetwork-DS0105EN-SkillsNetwork/labs/Module2/images/SN_web_lightmode.png\" width=\"300\" alt=\"cognitiveclass.ai logo\">\n",
    "</center>\n"
   ]
  },
  {
   "cell_type": "markdown",
   "metadata": {},
   "source": [
    "#### Add your code below following the instructions given in the course\n"
   ]
  },
  {
   "cell_type": "markdown",
   "metadata": {},
   "source": [
    "print (5+2)"
   ]
  },
  {
   "cell_type": "code",
   "execution_count": 2,
   "metadata": {},
   "outputs": [
    {
     "name": "stdout",
     "output_type": "stream",
     "text": [
      "7\n"
     ]
    }
   ],
   "source": [
    "print(5+2)"
   ]
  },
  {
   "cell_type": "markdown",
   "metadata": {},
   "source": [
    "Hello world"
   ]
  },
  {
   "cell_type": "markdown",
   "metadata": {},
   "source": [
    "Python. Ranked first in several programming languages popularity indices, including the TIOBE Index and the PYPL Index, the popularity of Python has boomed in recent years and it remains the most popular programming language. ...\n",
    "1.R. ...\n",
    "2.SQL. ...\n",
    "3.Java. ...\n",
    "4.Julia. ...\n",
    "5.Scala. ...\n",
    "6.JavaScript. ...\n",
    "7.Swift."
   ]
  },
  {
   "cell_type": "markdown",
   "metadata": {},
   "source": [
    "Top 20 Python Libraries for Data Science.\n",
    "\n",
    "1) Pandas ·\n",
    "2) NumPy · \n",
    "3) SciPy · \n",
    "4) Sci-Kit Learn · \n",
    "5) PyCaret · \n",
    "6) Tensorflow · \n",
    "7) OpenCV.\n"
   ]
  },
  {
   "cell_type": "markdown",
   "metadata": {},
   "source": [
    "Create a markdown cell with a table of Data Science tools. \n",
    "\n",
    "\n",
    "| No. | List |\n",
    "| --- | ----------- |\n",
    "|1|Apache Spark|\n",
    "|2|D3.js|\n",
    "|3|IBM SPSS|\n",
    "|4|Julia|\n",
    "|5|Jupyter Notebook|\n"
   ]
  },
  {
   "cell_type": "markdown",
   "metadata": {},
   "source": [
    "5 -- a number is an arithmetic expression.  <br />\n",
    "(3 + 4) -- the sum of numbers is an arithmetic expression. <br />\n",
    "(7 - 3) -- the difference of two numbers is an arithmetic expression. <br />\n",
    "(2 5), 2 5 -- a product of two numbers is an arithmetic expression. <br />"
   ]
  },
  {
   "cell_type": "code",
   "execution_count": 6,
   "metadata": {},
   "outputs": [
    {
     "name": "stdout",
     "output_type": "stream",
     "text": [
      "12\n",
      "7\n"
     ]
    }
   ],
   "source": [
    "print(3*4)\n",
    "print(3+4)\n"
   ]
  },
  {
   "cell_type": "code",
   "execution_count": 8,
   "metadata": {},
   "outputs": [
    {
     "name": "stdout",
     "output_type": "stream",
     "text": [
      "2:10\n"
     ]
    }
   ],
   "source": [
    "total_minutes = 130\n",
    "hours = total_minutes // 60\n",
    "minutes = total_minutes % 60\n",
    "print(f\"{hours}:{minutes}\")"
   ]
  },
  {
   "cell_type": "markdown",
   "metadata": {},
   "source": [
    "## Objectives\n",
    "- Learn the basics of data science\n",
    "- Understand the different tools used in data science\n",
    "- Learn how to use Python for data science\n",
    "- Learn how to use SQL for data science\n",
    "- Understand the different techniques used in data science\n",
    "- Learn how to visualize data using different tools"
   ]
  },
  {
   "cell_type": "markdown",
   "metadata": {},
   "source": [
    "## Author\n",
    "John Doe"
   ]
  }
 ],
 "metadata": {
  "kernelspec": {
   "display_name": "Python",
   "language": "python",
   "name": "conda-env-python-py"
  },
  "language_info": {
   "codemirror_mode": {
    "name": "ipython",
    "version": 3
   },
   "file_extension": ".py",
   "mimetype": "text/x-python",
   "name": "python",
   "nbconvert_exporter": "python",
   "pygments_lexer": "ipython3",
   "version": "3.7.12"
  }
 },
 "nbformat": 4,
 "nbformat_minor": 4
}
